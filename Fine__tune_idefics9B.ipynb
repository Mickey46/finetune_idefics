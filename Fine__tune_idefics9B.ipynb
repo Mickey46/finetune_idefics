{
  "nbformat": 4,
  "nbformat_minor": 0,
  "metadata": {
    "colab": {
      "provenance": [],
      "machine_shape": "hm",
      "gpuType": "A100",
      "authorship_tag": "ABX9TyPEfDxwGMFSaED8ASgeW+r6",
      "include_colab_link": true
    },
    "kernelspec": {
      "name": "python3",
      "display_name": "Python 3"
    },
    "language_info": {
      "name": "python"
    },
    "accelerator": "GPU",
    "widgets": {
      "application/vnd.jupyter.widget-state+json": {
        "2602f336377046369db054b6cdaff0a1": {
          "model_module": "@jupyter-widgets/controls",
          "model_name": "HBoxModel",
          "model_module_version": "1.5.0",
          "state": {
            "_dom_classes": [],
            "_model_module": "@jupyter-widgets/controls",
            "_model_module_version": "1.5.0",
            "_model_name": "HBoxModel",
            "_view_count": null,
            "_view_module": "@jupyter-widgets/controls",
            "_view_module_version": "1.5.0",
            "_view_name": "HBoxView",
            "box_style": "",
            "children": [
              "IPY_MODEL_8b44e03d41f5416c8d91096748a62eda",
              "IPY_MODEL_c26dce251d6748dfb94d44e86929fc1e",
              "IPY_MODEL_63325825163643ae946283665fe0848d"
            ],
            "layout": "IPY_MODEL_58cab61d2a4541a19083534113935d07"
          }
        },
        "8b44e03d41f5416c8d91096748a62eda": {
          "model_module": "@jupyter-widgets/controls",
          "model_name": "HTMLModel",
          "model_module_version": "1.5.0",
          "state": {
            "_dom_classes": [],
            "_model_module": "@jupyter-widgets/controls",
            "_model_module_version": "1.5.0",
            "_model_name": "HTMLModel",
            "_view_count": null,
            "_view_module": "@jupyter-widgets/controls",
            "_view_module_version": "1.5.0",
            "_view_name": "HTMLView",
            "description": "",
            "description_tooltip": null,
            "layout": "IPY_MODEL_9a878228c0c0487a86be7e0813b7cf4b",
            "placeholder": "​",
            "style": "IPY_MODEL_6d8fb54b39d344b9893c308f81bb425b",
            "value": "Loading checkpoint shards: 100%"
          }
        },
        "c26dce251d6748dfb94d44e86929fc1e": {
          "model_module": "@jupyter-widgets/controls",
          "model_name": "FloatProgressModel",
          "model_module_version": "1.5.0",
          "state": {
            "_dom_classes": [],
            "_model_module": "@jupyter-widgets/controls",
            "_model_module_version": "1.5.0",
            "_model_name": "FloatProgressModel",
            "_view_count": null,
            "_view_module": "@jupyter-widgets/controls",
            "_view_module_version": "1.5.0",
            "_view_name": "ProgressView",
            "bar_style": "success",
            "description": "",
            "description_tooltip": null,
            "layout": "IPY_MODEL_6653b7348f97420793893c59580d605b",
            "max": 19,
            "min": 0,
            "orientation": "horizontal",
            "style": "IPY_MODEL_5be36a99c167409a9a67bbdc852b90dc",
            "value": 19
          }
        },
        "63325825163643ae946283665fe0848d": {
          "model_module": "@jupyter-widgets/controls",
          "model_name": "HTMLModel",
          "model_module_version": "1.5.0",
          "state": {
            "_dom_classes": [],
            "_model_module": "@jupyter-widgets/controls",
            "_model_module_version": "1.5.0",
            "_model_name": "HTMLModel",
            "_view_count": null,
            "_view_module": "@jupyter-widgets/controls",
            "_view_module_version": "1.5.0",
            "_view_name": "HTMLView",
            "description": "",
            "description_tooltip": null,
            "layout": "IPY_MODEL_b678cc4102124153b4e6af383277e265",
            "placeholder": "​",
            "style": "IPY_MODEL_51f8b12263d24192ac3339d7116c8961",
            "value": " 19/19 [00:17&lt;00:00,  1.23it/s]"
          }
        },
        "58cab61d2a4541a19083534113935d07": {
          "model_module": "@jupyter-widgets/base",
          "model_name": "LayoutModel",
          "model_module_version": "1.2.0",
          "state": {
            "_model_module": "@jupyter-widgets/base",
            "_model_module_version": "1.2.0",
            "_model_name": "LayoutModel",
            "_view_count": null,
            "_view_module": "@jupyter-widgets/base",
            "_view_module_version": "1.2.0",
            "_view_name": "LayoutView",
            "align_content": null,
            "align_items": null,
            "align_self": null,
            "border": null,
            "bottom": null,
            "display": null,
            "flex": null,
            "flex_flow": null,
            "grid_area": null,
            "grid_auto_columns": null,
            "grid_auto_flow": null,
            "grid_auto_rows": null,
            "grid_column": null,
            "grid_gap": null,
            "grid_row": null,
            "grid_template_areas": null,
            "grid_template_columns": null,
            "grid_template_rows": null,
            "height": null,
            "justify_content": null,
            "justify_items": null,
            "left": null,
            "margin": null,
            "max_height": null,
            "max_width": null,
            "min_height": null,
            "min_width": null,
            "object_fit": null,
            "object_position": null,
            "order": null,
            "overflow": null,
            "overflow_x": null,
            "overflow_y": null,
            "padding": null,
            "right": null,
            "top": null,
            "visibility": null,
            "width": null
          }
        },
        "9a878228c0c0487a86be7e0813b7cf4b": {
          "model_module": "@jupyter-widgets/base",
          "model_name": "LayoutModel",
          "model_module_version": "1.2.0",
          "state": {
            "_model_module": "@jupyter-widgets/base",
            "_model_module_version": "1.2.0",
            "_model_name": "LayoutModel",
            "_view_count": null,
            "_view_module": "@jupyter-widgets/base",
            "_view_module_version": "1.2.0",
            "_view_name": "LayoutView",
            "align_content": null,
            "align_items": null,
            "align_self": null,
            "border": null,
            "bottom": null,
            "display": null,
            "flex": null,
            "flex_flow": null,
            "grid_area": null,
            "grid_auto_columns": null,
            "grid_auto_flow": null,
            "grid_auto_rows": null,
            "grid_column": null,
            "grid_gap": null,
            "grid_row": null,
            "grid_template_areas": null,
            "grid_template_columns": null,
            "grid_template_rows": null,
            "height": null,
            "justify_content": null,
            "justify_items": null,
            "left": null,
            "margin": null,
            "max_height": null,
            "max_width": null,
            "min_height": null,
            "min_width": null,
            "object_fit": null,
            "object_position": null,
            "order": null,
            "overflow": null,
            "overflow_x": null,
            "overflow_y": null,
            "padding": null,
            "right": null,
            "top": null,
            "visibility": null,
            "width": null
          }
        },
        "6d8fb54b39d344b9893c308f81bb425b": {
          "model_module": "@jupyter-widgets/controls",
          "model_name": "DescriptionStyleModel",
          "model_module_version": "1.5.0",
          "state": {
            "_model_module": "@jupyter-widgets/controls",
            "_model_module_version": "1.5.0",
            "_model_name": "DescriptionStyleModel",
            "_view_count": null,
            "_view_module": "@jupyter-widgets/base",
            "_view_module_version": "1.2.0",
            "_view_name": "StyleView",
            "description_width": ""
          }
        },
        "6653b7348f97420793893c59580d605b": {
          "model_module": "@jupyter-widgets/base",
          "model_name": "LayoutModel",
          "model_module_version": "1.2.0",
          "state": {
            "_model_module": "@jupyter-widgets/base",
            "_model_module_version": "1.2.0",
            "_model_name": "LayoutModel",
            "_view_count": null,
            "_view_module": "@jupyter-widgets/base",
            "_view_module_version": "1.2.0",
            "_view_name": "LayoutView",
            "align_content": null,
            "align_items": null,
            "align_self": null,
            "border": null,
            "bottom": null,
            "display": null,
            "flex": null,
            "flex_flow": null,
            "grid_area": null,
            "grid_auto_columns": null,
            "grid_auto_flow": null,
            "grid_auto_rows": null,
            "grid_column": null,
            "grid_gap": null,
            "grid_row": null,
            "grid_template_areas": null,
            "grid_template_columns": null,
            "grid_template_rows": null,
            "height": null,
            "justify_content": null,
            "justify_items": null,
            "left": null,
            "margin": null,
            "max_height": null,
            "max_width": null,
            "min_height": null,
            "min_width": null,
            "object_fit": null,
            "object_position": null,
            "order": null,
            "overflow": null,
            "overflow_x": null,
            "overflow_y": null,
            "padding": null,
            "right": null,
            "top": null,
            "visibility": null,
            "width": null
          }
        },
        "5be36a99c167409a9a67bbdc852b90dc": {
          "model_module": "@jupyter-widgets/controls",
          "model_name": "ProgressStyleModel",
          "model_module_version": "1.5.0",
          "state": {
            "_model_module": "@jupyter-widgets/controls",
            "_model_module_version": "1.5.0",
            "_model_name": "ProgressStyleModel",
            "_view_count": null,
            "_view_module": "@jupyter-widgets/base",
            "_view_module_version": "1.2.0",
            "_view_name": "StyleView",
            "bar_color": null,
            "description_width": ""
          }
        },
        "b678cc4102124153b4e6af383277e265": {
          "model_module": "@jupyter-widgets/base",
          "model_name": "LayoutModel",
          "model_module_version": "1.2.0",
          "state": {
            "_model_module": "@jupyter-widgets/base",
            "_model_module_version": "1.2.0",
            "_model_name": "LayoutModel",
            "_view_count": null,
            "_view_module": "@jupyter-widgets/base",
            "_view_module_version": "1.2.0",
            "_view_name": "LayoutView",
            "align_content": null,
            "align_items": null,
            "align_self": null,
            "border": null,
            "bottom": null,
            "display": null,
            "flex": null,
            "flex_flow": null,
            "grid_area": null,
            "grid_auto_columns": null,
            "grid_auto_flow": null,
            "grid_auto_rows": null,
            "grid_column": null,
            "grid_gap": null,
            "grid_row": null,
            "grid_template_areas": null,
            "grid_template_columns": null,
            "grid_template_rows": null,
            "height": null,
            "justify_content": null,
            "justify_items": null,
            "left": null,
            "margin": null,
            "max_height": null,
            "max_width": null,
            "min_height": null,
            "min_width": null,
            "object_fit": null,
            "object_position": null,
            "order": null,
            "overflow": null,
            "overflow_x": null,
            "overflow_y": null,
            "padding": null,
            "right": null,
            "top": null,
            "visibility": null,
            "width": null
          }
        },
        "51f8b12263d24192ac3339d7116c8961": {
          "model_module": "@jupyter-widgets/controls",
          "model_name": "DescriptionStyleModel",
          "model_module_version": "1.5.0",
          "state": {
            "_model_module": "@jupyter-widgets/controls",
            "_model_module_version": "1.5.0",
            "_model_name": "DescriptionStyleModel",
            "_view_count": null,
            "_view_module": "@jupyter-widgets/base",
            "_view_module_version": "1.2.0",
            "_view_name": "StyleView",
            "description_width": ""
          }
        },
        "3673dc11b55e4feabc151222553ae864": {
          "model_module": "@jupyter-widgets/controls",
          "model_name": "HBoxModel",
          "model_module_version": "1.5.0",
          "state": {
            "_dom_classes": [],
            "_model_module": "@jupyter-widgets/controls",
            "_model_module_version": "1.5.0",
            "_model_name": "HBoxModel",
            "_view_count": null,
            "_view_module": "@jupyter-widgets/controls",
            "_view_module_version": "1.5.0",
            "_view_name": "HBoxView",
            "box_style": "",
            "children": [
              "IPY_MODEL_996e58e3a83f46408087ef75b3950b2f",
              "IPY_MODEL_0fee870faa0341c48878bc83d727df31",
              "IPY_MODEL_2b717520829c48ed886d343d2f6a48d2"
            ],
            "layout": "IPY_MODEL_f635283a24c14a0287d1aa100a9cbbaf"
          }
        },
        "996e58e3a83f46408087ef75b3950b2f": {
          "model_module": "@jupyter-widgets/controls",
          "model_name": "HTMLModel",
          "model_module_version": "1.5.0",
          "state": {
            "_dom_classes": [],
            "_model_module": "@jupyter-widgets/controls",
            "_model_module_version": "1.5.0",
            "_model_name": "HTMLModel",
            "_view_count": null,
            "_view_module": "@jupyter-widgets/controls",
            "_view_module_version": "1.5.0",
            "_view_name": "HTMLView",
            "description": "",
            "description_tooltip": null,
            "layout": "IPY_MODEL_a9685ac257f34593a5bb2cd76d349cf1",
            "placeholder": "​",
            "style": "IPY_MODEL_0733edd1516c483bb1d1396bb880c817",
            "value": "adapter_model.safetensors: 100%"
          }
        },
        "0fee870faa0341c48878bc83d727df31": {
          "model_module": "@jupyter-widgets/controls",
          "model_name": "FloatProgressModel",
          "model_module_version": "1.5.0",
          "state": {
            "_dom_classes": [],
            "_model_module": "@jupyter-widgets/controls",
            "_model_module_version": "1.5.0",
            "_model_name": "FloatProgressModel",
            "_view_count": null,
            "_view_module": "@jupyter-widgets/controls",
            "_view_module_version": "1.5.0",
            "_view_name": "ProgressView",
            "bar_style": "success",
            "description": "",
            "description_tooltip": null,
            "layout": "IPY_MODEL_8b6259769c4d4a1a9682ecbf6ce7bb38",
            "max": 79095744,
            "min": 0,
            "orientation": "horizontal",
            "style": "IPY_MODEL_540fa6916b2343159cb8f8916abf2ca4",
            "value": 79095744
          }
        },
        "2b717520829c48ed886d343d2f6a48d2": {
          "model_module": "@jupyter-widgets/controls",
          "model_name": "HTMLModel",
          "model_module_version": "1.5.0",
          "state": {
            "_dom_classes": [],
            "_model_module": "@jupyter-widgets/controls",
            "_model_module_version": "1.5.0",
            "_model_name": "HTMLModel",
            "_view_count": null,
            "_view_module": "@jupyter-widgets/controls",
            "_view_module_version": "1.5.0",
            "_view_name": "HTMLView",
            "description": "",
            "description_tooltip": null,
            "layout": "IPY_MODEL_2f5c8fb021e04f71b2aa1b389336de94",
            "placeholder": "​",
            "style": "IPY_MODEL_cdb011554c0742b5a9bc7c251fb31375",
            "value": " 79.1M/79.1M [00:10&lt;00:00, 6.34MB/s]"
          }
        },
        "f635283a24c14a0287d1aa100a9cbbaf": {
          "model_module": "@jupyter-widgets/base",
          "model_name": "LayoutModel",
          "model_module_version": "1.2.0",
          "state": {
            "_model_module": "@jupyter-widgets/base",
            "_model_module_version": "1.2.0",
            "_model_name": "LayoutModel",
            "_view_count": null,
            "_view_module": "@jupyter-widgets/base",
            "_view_module_version": "1.2.0",
            "_view_name": "LayoutView",
            "align_content": null,
            "align_items": null,
            "align_self": null,
            "border": null,
            "bottom": null,
            "display": null,
            "flex": null,
            "flex_flow": null,
            "grid_area": null,
            "grid_auto_columns": null,
            "grid_auto_flow": null,
            "grid_auto_rows": null,
            "grid_column": null,
            "grid_gap": null,
            "grid_row": null,
            "grid_template_areas": null,
            "grid_template_columns": null,
            "grid_template_rows": null,
            "height": null,
            "justify_content": null,
            "justify_items": null,
            "left": null,
            "margin": null,
            "max_height": null,
            "max_width": null,
            "min_height": null,
            "min_width": null,
            "object_fit": null,
            "object_position": null,
            "order": null,
            "overflow": null,
            "overflow_x": null,
            "overflow_y": null,
            "padding": null,
            "right": null,
            "top": null,
            "visibility": null,
            "width": null
          }
        },
        "a9685ac257f34593a5bb2cd76d349cf1": {
          "model_module": "@jupyter-widgets/base",
          "model_name": "LayoutModel",
          "model_module_version": "1.2.0",
          "state": {
            "_model_module": "@jupyter-widgets/base",
            "_model_module_version": "1.2.0",
            "_model_name": "LayoutModel",
            "_view_count": null,
            "_view_module": "@jupyter-widgets/base",
            "_view_module_version": "1.2.0",
            "_view_name": "LayoutView",
            "align_content": null,
            "align_items": null,
            "align_self": null,
            "border": null,
            "bottom": null,
            "display": null,
            "flex": null,
            "flex_flow": null,
            "grid_area": null,
            "grid_auto_columns": null,
            "grid_auto_flow": null,
            "grid_auto_rows": null,
            "grid_column": null,
            "grid_gap": null,
            "grid_row": null,
            "grid_template_areas": null,
            "grid_template_columns": null,
            "grid_template_rows": null,
            "height": null,
            "justify_content": null,
            "justify_items": null,
            "left": null,
            "margin": null,
            "max_height": null,
            "max_width": null,
            "min_height": null,
            "min_width": null,
            "object_fit": null,
            "object_position": null,
            "order": null,
            "overflow": null,
            "overflow_x": null,
            "overflow_y": null,
            "padding": null,
            "right": null,
            "top": null,
            "visibility": null,
            "width": null
          }
        },
        "0733edd1516c483bb1d1396bb880c817": {
          "model_module": "@jupyter-widgets/controls",
          "model_name": "DescriptionStyleModel",
          "model_module_version": "1.5.0",
          "state": {
            "_model_module": "@jupyter-widgets/controls",
            "_model_module_version": "1.5.0",
            "_model_name": "DescriptionStyleModel",
            "_view_count": null,
            "_view_module": "@jupyter-widgets/base",
            "_view_module_version": "1.2.0",
            "_view_name": "StyleView",
            "description_width": ""
          }
        },
        "8b6259769c4d4a1a9682ecbf6ce7bb38": {
          "model_module": "@jupyter-widgets/base",
          "model_name": "LayoutModel",
          "model_module_version": "1.2.0",
          "state": {
            "_model_module": "@jupyter-widgets/base",
            "_model_module_version": "1.2.0",
            "_model_name": "LayoutModel",
            "_view_count": null,
            "_view_module": "@jupyter-widgets/base",
            "_view_module_version": "1.2.0",
            "_view_name": "LayoutView",
            "align_content": null,
            "align_items": null,
            "align_self": null,
            "border": null,
            "bottom": null,
            "display": null,
            "flex": null,
            "flex_flow": null,
            "grid_area": null,
            "grid_auto_columns": null,
            "grid_auto_flow": null,
            "grid_auto_rows": null,
            "grid_column": null,
            "grid_gap": null,
            "grid_row": null,
            "grid_template_areas": null,
            "grid_template_columns": null,
            "grid_template_rows": null,
            "height": null,
            "justify_content": null,
            "justify_items": null,
            "left": null,
            "margin": null,
            "max_height": null,
            "max_width": null,
            "min_height": null,
            "min_width": null,
            "object_fit": null,
            "object_position": null,
            "order": null,
            "overflow": null,
            "overflow_x": null,
            "overflow_y": null,
            "padding": null,
            "right": null,
            "top": null,
            "visibility": null,
            "width": null
          }
        },
        "540fa6916b2343159cb8f8916abf2ca4": {
          "model_module": "@jupyter-widgets/controls",
          "model_name": "ProgressStyleModel",
          "model_module_version": "1.5.0",
          "state": {
            "_model_module": "@jupyter-widgets/controls",
            "_model_module_version": "1.5.0",
            "_model_name": "ProgressStyleModel",
            "_view_count": null,
            "_view_module": "@jupyter-widgets/base",
            "_view_module_version": "1.2.0",
            "_view_name": "StyleView",
            "bar_color": null,
            "description_width": ""
          }
        },
        "2f5c8fb021e04f71b2aa1b389336de94": {
          "model_module": "@jupyter-widgets/base",
          "model_name": "LayoutModel",
          "model_module_version": "1.2.0",
          "state": {
            "_model_module": "@jupyter-widgets/base",
            "_model_module_version": "1.2.0",
            "_model_name": "LayoutModel",
            "_view_count": null,
            "_view_module": "@jupyter-widgets/base",
            "_view_module_version": "1.2.0",
            "_view_name": "LayoutView",
            "align_content": null,
            "align_items": null,
            "align_self": null,
            "border": null,
            "bottom": null,
            "display": null,
            "flex": null,
            "flex_flow": null,
            "grid_area": null,
            "grid_auto_columns": null,
            "grid_auto_flow": null,
            "grid_auto_rows": null,
            "grid_column": null,
            "grid_gap": null,
            "grid_row": null,
            "grid_template_areas": null,
            "grid_template_columns": null,
            "grid_template_rows": null,
            "height": null,
            "justify_content": null,
            "justify_items": null,
            "left": null,
            "margin": null,
            "max_height": null,
            "max_width": null,
            "min_height": null,
            "min_width": null,
            "object_fit": null,
            "object_position": null,
            "order": null,
            "overflow": null,
            "overflow_x": null,
            "overflow_y": null,
            "padding": null,
            "right": null,
            "top": null,
            "visibility": null,
            "width": null
          }
        },
        "cdb011554c0742b5a9bc7c251fb31375": {
          "model_module": "@jupyter-widgets/controls",
          "model_name": "DescriptionStyleModel",
          "model_module_version": "1.5.0",
          "state": {
            "_model_module": "@jupyter-widgets/controls",
            "_model_module_version": "1.5.0",
            "_model_name": "DescriptionStyleModel",
            "_view_count": null,
            "_view_module": "@jupyter-widgets/base",
            "_view_module_version": "1.2.0",
            "_view_name": "StyleView",
            "description_width": ""
          }
        }
      }
    }
  },
  "cells": [
    {
      "cell_type": "markdown",
      "metadata": {
        "id": "view-in-github",
        "colab_type": "text"
      },
      "source": [
        "<a href=\"https://colab.research.google.com/github/Mickey46/finetune_idefics/blob/main/Fine__tune_idefics9B.ipynb\" target=\"_parent\"><img src=\"https://colab.research.google.com/assets/colab-badge.svg\" alt=\"Open In Colab\"/></a>"
      ]
    },
    {
      "cell_type": "code",
      "execution_count": 29,
      "metadata": {
        "colab": {
          "base_uri": "https://localhost:8080/"
        },
        "id": "wJBu2JGO8-OB",
        "outputId": "3c77914c-d6c3-485c-df94-d64141dcf796"
      },
      "outputs": [
        {
          "output_type": "stream",
          "name": "stdout",
          "text": [
            "  Installing build dependencies ... \u001b[?25l\u001b[?25hdone\n",
            "  Getting requirements to build wheel ... \u001b[?25l\u001b[?25hdone\n",
            "  Preparing metadata (pyproject.toml) ... \u001b[?25l\u001b[?25hdone\n",
            "  Installing build dependencies ... \u001b[?25l\u001b[?25hdone\n",
            "  Getting requirements to build wheel ... \u001b[?25l\u001b[?25hdone\n",
            "  Preparing metadata (pyproject.toml) ... \u001b[?25l\u001b[?25hdone\n"
          ]
        }
      ],
      "source": [
        "!pip install -q datasets\n",
        "!pip install -q git+https://github.com/huggingface/transformers\n",
        "!pip install -q bitsandbytes sentencepiece accelerate loralib\n",
        "!pip install -q -U git+https://github.com/huggingface/peft.git\n",
        ""
      ]
    },
    {
      "cell_type": "code",
      "source": [
        "import torch\n",
        "from datasets import load_dataset\n",
        "from peft import LoraConfig, get_peft_model\n",
        "from PIL import Image\n",
        "from transformers import IdeficsForVisionText2Text, AutoProcessor, Trainer, TrainingArguments, BitsAndBytesConfig\n",
        ""
      ],
      "metadata": {
        "id": "myh7qS5X9Q8f"
      },
      "execution_count": 30,
      "outputs": []
    },
    {
      "cell_type": "code",
      "source": [
        "\n",
        "\n",
        "device = \"cuda\" if torch.cuda.is_available() else \"cpu\"\n",
        "\n"
      ],
      "metadata": {
        "id": "9gF96wKu9Q5o"
      },
      "execution_count": 31,
      "outputs": []
    },
    {
      "cell_type": "code",
      "source": [
        "checkpoint = \"HuggingFaceM4/idefics-9b\""
      ],
      "metadata": {
        "id": "-tuLt2L09Q2l"
      },
      "execution_count": 32,
      "outputs": []
    },
    {
      "cell_type": "code",
      "source": [
        "bnb_config = BitsAndBytesConfig(\n",
        "    load_in_4bit=True,\n",
        "    bnb_4bit_use_double_quant=True,\n",
        "    bnb_4bit_quant_type=\"nf4\",\n",
        "    bnb_4bit_compute_dtype=torch.float16,\n",
        "    llm_int8_skip_modules=[\"lm_head\", \"embed_tokens\"]\n",
        ")"
      ],
      "metadata": {
        "id": "mlk1xNbZ9Qzu"
      },
      "execution_count": 33,
      "outputs": []
    },
    {
      "cell_type": "code",
      "source": [
        "processor = AutoProcessor.from_pretrained(checkpoint)"
      ],
      "metadata": {
        "colab": {
          "base_uri": "https://localhost:8080/"
        },
        "id": "rzYNLV5I9Qw2",
        "outputId": "1ffed073-5240-4901-c487-be309c73fa6d"
      },
      "execution_count": 34,
      "outputs": [
        {
          "output_type": "stream",
          "name": "stderr",
          "text": [
            "Special tokens have been added in the vocabulary, make sure the associated word embeddings are fine-tuned or trained.\n"
          ]
        }
      ]
    },
    {
      "cell_type": "code",
      "source": [
        "model = IdeficsForVisionText2Text.from_pretrained(checkpoint, quantization_config=bnb_config, device_map=\"auto\")"
      ],
      "metadata": {
        "colab": {
          "base_uri": "https://localhost:8080/",
          "height": 49,
          "referenced_widgets": [
            "2602f336377046369db054b6cdaff0a1",
            "8b44e03d41f5416c8d91096748a62eda",
            "c26dce251d6748dfb94d44e86929fc1e",
            "63325825163643ae946283665fe0848d",
            "58cab61d2a4541a19083534113935d07",
            "9a878228c0c0487a86be7e0813b7cf4b",
            "6d8fb54b39d344b9893c308f81bb425b",
            "6653b7348f97420793893c59580d605b",
            "5be36a99c167409a9a67bbdc852b90dc",
            "b678cc4102124153b4e6af383277e265",
            "51f8b12263d24192ac3339d7116c8961"
          ]
        },
        "id": "ASfqxJh69Qt-",
        "outputId": "15c744a0-ae3f-48b8-9ffb-ba08eb1d44a2"
      },
      "execution_count": 35,
      "outputs": [
        {
          "output_type": "display_data",
          "data": {
            "text/plain": [
              "Loading checkpoint shards:   0%|          | 0/19 [00:00<?, ?it/s]"
            ],
            "application/vnd.jupyter.widget-view+json": {
              "version_major": 2,
              "version_minor": 0,
              "model_id": "2602f336377046369db054b6cdaff0a1"
            }
          },
          "metadata": {}
        }
      ]
    },
    {
      "cell_type": "code",
      "source": [
        "model"
      ],
      "metadata": {
        "colab": {
          "base_uri": "https://localhost:8080/"
        },
        "id": "x8wQNepK9Qqz",
        "outputId": "43cac6fe-651f-4835-b2de-357ea5f67572"
      },
      "execution_count": 36,
      "outputs": [
        {
          "output_type": "execute_result",
          "data": {
            "text/plain": [
              "IdeficsForVisionText2Text(\n",
              "  (model): IdeficsModel(\n",
              "    (embed_tokens): IdeficsDecoupledEmbedding(\n",
              "      num_embeddings=32000, num_additional_embeddings=2, embedding_dim=4096, partially_freeze=False\n",
              "      (additional_embedding): Embedding(2, 4096)\n",
              "    )\n",
              "    (vision_model): IdeficsVisionTransformer(\n",
              "      (embeddings): IdeficsVisionEmbeddings(\n",
              "        (patch_embedding): Conv2d(3, 1280, kernel_size=(14, 14), stride=(14, 14), bias=False)\n",
              "        (position_embedding): Embedding(257, 1280)\n",
              "      )\n",
              "      (pre_layrnorm): LayerNorm((1280,), eps=1e-05, elementwise_affine=True)\n",
              "      (encoder): IdeficsVisionEncoder(\n",
              "        (layers): ModuleList(\n",
              "          (0-31): 32 x IdeficsVisionEncoderLayer(\n",
              "            (self_attn): IdeficsVisionAttention(\n",
              "              (k_proj): Linear4bit(in_features=1280, out_features=1280, bias=True)\n",
              "              (v_proj): Linear4bit(in_features=1280, out_features=1280, bias=True)\n",
              "              (q_proj): Linear4bit(in_features=1280, out_features=1280, bias=True)\n",
              "              (out_proj): Linear4bit(in_features=1280, out_features=1280, bias=True)\n",
              "            )\n",
              "            (layer_norm1): LayerNorm((1280,), eps=1e-05, elementwise_affine=True)\n",
              "            (mlp): IdeficsVisionMLP(\n",
              "              (activation_fn): GELUActivation()\n",
              "              (fc1): Linear4bit(in_features=1280, out_features=5120, bias=True)\n",
              "              (fc2): Linear4bit(in_features=5120, out_features=1280, bias=True)\n",
              "            )\n",
              "            (layer_norm2): LayerNorm((1280,), eps=1e-05, elementwise_affine=True)\n",
              "          )\n",
              "        )\n",
              "      )\n",
              "      (post_layernorm): LayerNorm((1280,), eps=1e-05, elementwise_affine=True)\n",
              "    )\n",
              "    (perceiver_resampler): IdeficsPerceiverResampler(\n",
              "      (blocks): ModuleList(\n",
              "        (0-5): 6 x ModuleList(\n",
              "          (0): IdeficsPerceiverAttention(\n",
              "            (context_layer_norm): LayerNorm((1280,), eps=1e-05, elementwise_affine=True)\n",
              "            (latents_layer_norm): LayerNorm((1280,), eps=1e-05, elementwise_affine=True)\n",
              "            (q_layer_norm): LayerNorm((96,), eps=1e-05, elementwise_affine=True)\n",
              "            (k_layer_norm): LayerNorm((96,), eps=1e-05, elementwise_affine=True)\n",
              "            (q_proj): Linear4bit(in_features=1280, out_features=1536, bias=False)\n",
              "            (k_proj): Linear4bit(in_features=1280, out_features=1536, bias=False)\n",
              "            (v_proj): Linear4bit(in_features=1280, out_features=1536, bias=False)\n",
              "            (output_proj): Linear4bit(in_features=1536, out_features=1280, bias=False)\n",
              "          )\n",
              "          (1): IdeficsMLP(\n",
              "            (ln): LayerNorm((1280,), eps=1e-05, elementwise_affine=True)\n",
              "            (fc): Linear4bit(in_features=1280, out_features=5120, bias=False)\n",
              "            (act): ReLU()\n",
              "            (c_proj): Linear4bit(in_features=5120, out_features=1280, bias=False)\n",
              "          )\n",
              "        )\n",
              "      )\n",
              "      (layer_norm): LayerNorm((1280,), eps=1e-05, elementwise_affine=True)\n",
              "    )\n",
              "    (layers): ModuleList(\n",
              "      (0-31): 32 x IdeficsDecoderLayer(\n",
              "        (self_attn): IdeficsAttention(\n",
              "          (q_proj): Linear4bit(in_features=4096, out_features=4096, bias=False)\n",
              "          (k_proj): Linear4bit(in_features=4096, out_features=4096, bias=False)\n",
              "          (v_proj): Linear4bit(in_features=4096, out_features=4096, bias=False)\n",
              "          (o_proj): Linear4bit(in_features=4096, out_features=4096, bias=False)\n",
              "          (rotary_emb): IdeficsEmbedding()\n",
              "        )\n",
              "        (mlp): IdeficsMLP(\n",
              "          (gate_proj): Linear4bit(in_features=4096, out_features=11008, bias=False)\n",
              "          (down_proj): Linear4bit(in_features=11008, out_features=4096, bias=False)\n",
              "          (up_proj): Linear4bit(in_features=4096, out_features=11008, bias=False)\n",
              "          (act_fn): SiLU()\n",
              "        )\n",
              "        (input_layernorm): IdeficsRMSNorm()\n",
              "        (post_attention_layernorm): IdeficsRMSNorm()\n",
              "      )\n",
              "    )\n",
              "    (gated_cross_attn_layers): ModuleList(\n",
              "      (0-7): 8 x IdeficsGatedCrossAttentionLayer(\n",
              "        (cross_attn): IdeficsAttention(\n",
              "          (q_proj): Linear4bit(in_features=4096, out_features=4096, bias=False)\n",
              "          (k_proj): Linear4bit(in_features=1280, out_features=4096, bias=False)\n",
              "          (v_proj): Linear4bit(in_features=1280, out_features=4096, bias=False)\n",
              "          (o_proj): Linear4bit(in_features=4096, out_features=4096, bias=False)\n",
              "          (rotary_emb): IdeficsEmbedding()\n",
              "          (q_layer_norm): IdeficsRMSNorm()\n",
              "          (k_layer_norm): IdeficsRMSNorm()\n",
              "        )\n",
              "        (mlp): IdeficsMLP(\n",
              "          (gate_proj): Linear4bit(in_features=4096, out_features=11008, bias=False)\n",
              "          (down_proj): Linear4bit(in_features=11008, out_features=4096, bias=False)\n",
              "          (up_proj): Linear4bit(in_features=4096, out_features=11008, bias=False)\n",
              "          (act_fn): SiLU()\n",
              "        )\n",
              "        (input_layernorm): IdeficsRMSNorm()\n",
              "        (post_attention_layernorm): IdeficsRMSNorm()\n",
              "        (act_cross_attn): Tanh()\n",
              "        (act_dense): Tanh()\n",
              "      )\n",
              "    )\n",
              "    (norm): IdeficsRMSNorm()\n",
              "  )\n",
              "  (lm_head): IdeficsDecoupledLinear(\n",
              "    in_features=4096, out_features=32000, out_additional_features=2, bias=False, partially_freeze=False\n",
              "    (additional_fc): Linear(in_features=4096, out_features=2, bias=False)\n",
              "  )\n",
              ")"
            ]
          },
          "metadata": {},
          "execution_count": 36
        }
      ]
    },
    {
      "cell_type": "code",
      "source": [
        "def do_inference(model, processor, prompts, max_new_tokens=50):\n",
        "    tokenizer = processor.tokenizer\n",
        "    bad_words = [\"<image>\", \"<fake_token_around_image>\"]\n",
        "    bad_words_ids = None\n",
        "    if len(bad_words) > 0:\n",
        "        bad_words_ids = [tokenizer.encode(bw, add_special_tokens=False) for bw in bad_words]\n",
        "\n",
        "    eos_token = \"</s>\"\n",
        "    eos_token_id = tokenizer.convert_tokens_to_ids(eos_token)\n",
        "\n",
        "    inputs = processor(prompts, return_tensors=\"pt\").to(device)\n",
        "    generated_ids = model.generate(\n",
        "        **inputs,\n",
        "        eos_token_id=eos_token_id,\n",
        "        max_new_tokens=max_new_tokens,\n",
        "        bad_words_ids=bad_words_ids,\n",
        "        early_stopping=True,\n",
        "    )\n",
        "    generated_text = processor.batch_decode(generated_ids, skip_special_tokens=True)[0]\n",
        "    print(generated_text)\n"
      ],
      "metadata": {
        "id": "UJxO1j7E9Qn7"
      },
      "execution_count": 75,
      "outputs": []
    },
    {
      "cell_type": "code",
      "source": [
        "import torchvision.transforms as transforms\n",
        ""
      ],
      "metadata": {
        "id": "xaV6ZJdx9Qk7"
      },
      "execution_count": 76,
      "outputs": []
    },
    {
      "cell_type": "code",
      "source": [
        "import torchvision.transforms as transforms\n",
        ""
      ],
      "metadata": {
        "id": "vakabsrz9Qh7"
      },
      "execution_count": 77,
      "outputs": []
    },
    {
      "cell_type": "code",
      "source": [
        "\n",
        "##preprocessing\n",
        "def convert_to_rgb(image):\n",
        "  if image.mode == \"RGB\":\n",
        "    return image\n",
        "\n",
        "  image_rgba = image.convert(\"RGBA\")\n",
        "  background = Image.new(\"RGBA\", image_rgba.size, (255,255,255))\n",
        "  alpha_composite = Image.alpha_composite(background, image_rgba)\n",
        "  alpha_composite = alpha_composite.convert(\"RGB\")\n",
        "  return alpha_composite\n",
        "\n",
        "def ds_transforms(example_batch):\n",
        "  image_size = processor.image_processor.image_size\n",
        "  image_mean = processor.image_processor.image_mean\n",
        "  image_std = processor.image_processor.image_std\n",
        "\n",
        "  image_transform = transforms.Compose([\n",
        "      convert_to_rgb,\n",
        "      transforms.RandomResizedCrop((image_size, image_size), scale=(0.9, 1.0), interpolation=transforms.InterpolationMode.BICUBIC),\n",
        "      transforms.ToTensor(),\n",
        "      transforms.Normalize(mean=image_mean, std=image_std)\n",
        "  ])\n",
        "\n",
        "  prompts = []\n",
        "  for i in range(len(example_batch['caption'])):\n",
        "    caption = example_batch['caption'][i].split(\".\")[0]\n",
        "    prompts.append(\n",
        "        [\n",
        "            example_batch['image_url'][i],\n",
        "            f\"Question: What's on the picture? Answer: This is {example_batch['name']}. {caption}\",\n",
        "        ],\n",
        "    )\n",
        "  inputs = processor(prompts, transform=image_transform, return_tensors=\"pt\").to(device)\n",
        "  inputs[\"labels\"] = inputs[\"input_ids\"]\n",
        "  return inputs"
      ],
      "metadata": {
        "id": "G9mGjLmF9Qe3"
      },
      "execution_count": 78,
      "outputs": []
    },
    {
      "cell_type": "code",
      "source": [
        "\n",
        "#Load and prepare the data\n",
        "ds = load_dataset(\"TheFusion21/PokemonCards\")\n",
        "ds = ds[\"train\"].train_test_split(test_size=0.002)\n",
        "train_ds = ds[\"train\"]\n",
        "eval_ds = ds[\"test\"]\n",
        "train_ds.set_transform(ds_transforms)\n",
        "eval_ds.set_transform(ds_transforms)"
      ],
      "metadata": {
        "id": "Js1TwHkm9Qbq"
      },
      "execution_count": 79,
      "outputs": []
    },
    {
      "cell_type": "code",
      "source": [
        "model_name = checkpoint.split(\"/\")[1]\n",
        "config = LoraConfig(\n",
        "    r = 16,\n",
        "    lora_alpha = 32,\n",
        "    target_modules = [\"q_proj\", \"k_proj\", \"v_proj\"],\n",
        "    lora_dropout = 0.05,\n",
        "    bias=\"none\"\n",
        ")"
      ],
      "metadata": {
        "id": "eKmtGoGoBebK"
      },
      "execution_count": 80,
      "outputs": []
    },
    {
      "cell_type": "code",
      "source": [
        "model = get_peft_model(model, config)\n",
        ""
      ],
      "metadata": {
        "id": "fyQq1kFuBeYa"
      },
      "execution_count": 81,
      "outputs": []
    },
    {
      "cell_type": "code",
      "source": [
        "model.print_trainable_parameters()\n",
        ""
      ],
      "metadata": {
        "colab": {
          "base_uri": "https://localhost:8080/"
        },
        "id": "tR_p-rzcBeVV",
        "outputId": "b8ad8746-5769-4279-9041-f454a513dd45"
      },
      "execution_count": 82,
      "outputs": [
        {
          "output_type": "stream",
          "name": "stdout",
          "text": [
            "trainable params: 19,750,912 || all params: 8,949,430,544 || trainable%: 0.2206946230030432\n"
          ]
        }
      ]
    },
    {
      "cell_type": "code",
      "source": [
        "\n",
        "\n",
        "training_args = TrainingArguments(\n",
        "    output_dir = f\"{model_name}-PokemonCards\",\n",
        "    learning_rate = 2e-4,\n",
        "    fp16 = True,\n",
        "    per_device_train_batch_size = 2,\n",
        "    per_device_eval_batch_size = 2,\n",
        "    gradient_accumulation_steps = 8,\n",
        "    dataloader_pin_memory = False,\n",
        "    save_total_limit = 3,\n",
        "    evaluation_strategy =\"steps\",\n",
        "    save_strategy = \"steps\",\n",
        "    eval_steps = 10,\n",
        "    save_steps = 10,\n",
        "    max_steps = 10,\n",
        "    logging_steps = 5,\n",
        "    remove_unused_columns = False,\n",
        "    push_to_hub=False,\n",
        "    label_names = [\"labels\"],\n",
        "    load_best_model_at_end = False,\n",
        "    report_to = \"none\",\n",
        "    optim = \"paged_adamw_8bit\",\n",
        ")\n",
        "\n"
      ],
      "metadata": {
        "id": "wxytmCNcBeSj"
      },
      "execution_count": 83,
      "outputs": []
    },
    {
      "cell_type": "code",
      "source": [
        "trainer = Trainer(\n",
        "    model = model,\n",
        "    args = training_args,\n",
        "    train_dataset = train_ds,\n",
        "    eval_dataset = eval_ds\n",
        ")\n",
        ""
      ],
      "metadata": {
        "id": "wMLwDkWDBePz"
      },
      "execution_count": 84,
      "outputs": []
    },
    {
      "cell_type": "code",
      "source": [
        "trainer.train()"
      ],
      "metadata": {
        "colab": {
          "base_uri": "https://localhost:8080/",
          "height": 199
        },
        "id": "5Dwc_PthBeMr",
        "outputId": "0ff63411-a0c0-48c4-9f66-55eed1d2fb54"
      },
      "execution_count": 85,
      "outputs": [
        {
          "output_type": "display_data",
          "data": {
            "text/plain": [
              "<IPython.core.display.HTML object>"
            ],
            "text/html": [
              "\n",
              "    <div>\n",
              "      \n",
              "      <progress value='10' max='10' style='width:300px; height:20px; vertical-align: middle;'></progress>\n",
              "      [10/10 02:58, Epoch 0/1]\n",
              "    </div>\n",
              "    <table border=\"1\" class=\"dataframe\">\n",
              "  <thead>\n",
              " <tr style=\"text-align: left;\">\n",
              "      <th>Step</th>\n",
              "      <th>Training Loss</th>\n",
              "      <th>Validation Loss</th>\n",
              "    </tr>\n",
              "  </thead>\n",
              "  <tbody>\n",
              "    <tr>\n",
              "      <td>10</td>\n",
              "      <td>1.871600</td>\n",
              "      <td>1.651438</td>\n",
              "    </tr>\n",
              "  </tbody>\n",
              "</table><p>"
            ]
          },
          "metadata": {}
        },
        {
          "output_type": "stream",
          "name": "stderr",
          "text": [
            "Checkpoint destination directory idefics-9b-PokemonCards/checkpoint-10 already exists and is non-empty.Saving will proceed but saved results may be invalid.\n"
          ]
        },
        {
          "output_type": "execute_result",
          "data": {
            "text/plain": [
              "TrainOutput(global_step=10, training_loss=2.2795533180236816, metrics={'train_runtime': 199.9252, 'train_samples_per_second': 0.8, 'train_steps_per_second': 0.05, 'total_flos': 763358475862656.0, 'train_loss': 2.2795533180236816, 'epoch': 0.01})"
            ]
          },
          "metadata": {},
          "execution_count": 85
        }
      ]
    },
    {
      "cell_type": "code",
      "source": [
        "\n",
        "\n",
        "url = \"https://images.pokemontcg.io/pop6/2_hires.png \"\n",
        "\n"
      ],
      "metadata": {
        "id": "O-sQu4CbBeGS"
      },
      "execution_count": 86,
      "outputs": []
    },
    {
      "cell_type": "code",
      "source": [
        "\n",
        "\n",
        "prompts = [\n",
        "    url,\n",
        "    \"Question: What's on the picture? Answer:\",\n",
        "]\n",
        "\n"
      ],
      "metadata": {
        "id": "nhKrsmrfBztT"
      },
      "execution_count": 87,
      "outputs": []
    },
    {
      "cell_type": "code",
      "source": [
        "do_inference(model, processor, prompts, max_new_tokens=100)"
      ],
      "metadata": {
        "colab": {
          "base_uri": "https://localhost:8080/"
        },
        "id": "fhKg_SD3B9C6",
        "outputId": "db794bf1-c18f-4a5f-d2e2-8d965095282c"
      },
      "execution_count": 88,
      "outputs": [
        {
          "output_type": "stream",
          "name": "stderr",
          "text": [
            "/usr/local/lib/python3.10/dist-packages/transformers/generation/configuration_utils.py:434: UserWarning: `num_beams` is set to 1. However, `early_stopping` is set to `True` -- this flag is only used in beam-based generation modes. You should set `num_beams>1` or unset `early_stopping`.\n",
            "  warnings.warn(\n"
          ]
        },
        {
          "output_type": "stream",
          "name": "stdout",
          "text": [
            "Question: What's on the picture? Answer: Lucario (Lv. 40).\n"
          ]
        }
      ]
    },
    {
      "cell_type": "code",
      "source": [
        "\n",
        "\n",
        "import locale\n",
        "locale.getpreferredencoding = lambda: \"UTF-8\"\n",
        "\n"
      ],
      "metadata": {
        "id": "mclpdKFaB_jm"
      },
      "execution_count": 89,
      "outputs": []
    },
    {
      "cell_type": "code",
      "source": [
        "\n",
        "\n",
        "!huggingface-cli login\n",
        "\n"
      ],
      "metadata": {
        "colab": {
          "base_uri": "https://localhost:8080/"
        },
        "id": "G2opOsMcCCFA",
        "outputId": "0ba447b2-a71c-4947-ed3d-39701cc08904"
      },
      "execution_count": 93,
      "outputs": [
        {
          "output_type": "stream",
          "name": "stdout",
          "text": [
            "\n",
            "    _|    _|  _|    _|    _|_|_|    _|_|_|  _|_|_|  _|      _|    _|_|_|      _|_|_|_|    _|_|      _|_|_|  _|_|_|_|\n",
            "    _|    _|  _|    _|  _|        _|          _|    _|_|    _|  _|            _|        _|    _|  _|        _|\n",
            "    _|_|_|_|  _|    _|  _|  _|_|  _|  _|_|    _|    _|  _|  _|  _|  _|_|      _|_|_|    _|_|_|_|  _|        _|_|_|\n",
            "    _|    _|  _|    _|  _|    _|  _|    _|    _|    _|    _|_|  _|    _|      _|        _|    _|  _|        _|\n",
            "    _|    _|    _|_|      _|_|_|    _|_|_|  _|_|_|  _|      _|    _|_|_|      _|        _|    _|    _|_|_|  _|_|_|_|\n",
            "\n",
            "    A token is already saved on your machine. Run `huggingface-cli whoami` to get more information or `huggingface-cli logout` if you want to log out.\n",
            "    Setting a new token will erase the existing one.\n",
            "    To login, `huggingface_hub` requires a token generated from https://huggingface.co/settings/tokens .\n",
            "Token: \n",
            "Add token as git credential? (Y/n) n\n",
            "Token is valid (permission: write).\n",
            "Your token has been saved to /root/.cache/huggingface/token\n",
            "Login successful\n"
          ]
        }
      ]
    },
    {
      "cell_type": "code",
      "source": [
        "model.push_to_hub(f\"{model_name}-PokemonCards\", private=False)\n",
        ""
      ],
      "metadata": {
        "colab": {
          "base_uri": "https://localhost:8080/",
          "height": 121,
          "referenced_widgets": [
            "3673dc11b55e4feabc151222553ae864",
            "996e58e3a83f46408087ef75b3950b2f",
            "0fee870faa0341c48878bc83d727df31",
            "2b717520829c48ed886d343d2f6a48d2",
            "f635283a24c14a0287d1aa100a9cbbaf",
            "a9685ac257f34593a5bb2cd76d349cf1",
            "0733edd1516c483bb1d1396bb880c817",
            "8b6259769c4d4a1a9682ecbf6ce7bb38",
            "540fa6916b2343159cb8f8916abf2ca4",
            "2f5c8fb021e04f71b2aa1b389336de94",
            "cdb011554c0742b5a9bc7c251fb31375"
          ]
        },
        "id": "hnmj-dTfCGZ1",
        "outputId": "5bc87178-fdbe-4169-99a6-690976248247"
      },
      "execution_count": 94,
      "outputs": [
        {
          "output_type": "display_data",
          "data": {
            "text/plain": [
              "adapter_model.safetensors:   0%|          | 0.00/79.1M [00:00<?, ?B/s]"
            ],
            "application/vnd.jupyter.widget-view+json": {
              "version_major": 2,
              "version_minor": 0,
              "model_id": "3673dc11b55e4feabc151222553ae864"
            }
          },
          "metadata": {}
        },
        {
          "output_type": "execute_result",
          "data": {
            "text/plain": [
              "CommitInfo(commit_url='https://huggingface.co/Prajwal98/idefics-9b-PokemonCards/commit/889e80598c8bb8065a2f67d63fe2a86a1fd15ea0', commit_message='Upload model', commit_description='', oid='889e80598c8bb8065a2f67d63fe2a86a1fd15ea0', pr_url=None, pr_revision=None, pr_num=None)"
            ],
            "application/vnd.google.colaboratory.intrinsic+json": {
              "type": "string"
            }
          },
          "metadata": {},
          "execution_count": 94
        }
      ]
    }
  ]
}